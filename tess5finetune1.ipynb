{
  "nbformat": 4,
  "nbformat_minor": 0,
  "metadata": {
    "colab": {
      "name": "tess4buildunittest-plusminus.ipynb",
      "provenance": [],
      "collapsed_sections": [],
      "mount_file_id": "1cZznaixqPjhJo1HKNAQf8Q_oRtiML9y0",
      "authorship_tag": "ABX9TyNj+WDiAL8vp0OkUkt2dZO+",
      "include_colab_link": true
    },
    "kernelspec": {
      "name": "python3",
      "display_name": "Python 3"
    }
  },
  "cells": [
    {
      "cell_type": "markdown",
      "metadata": {
        "id": "view-in-github",
        "colab_type": "text"
      },
      "source": [
        "<a href=\"https://colab.research.google.com/github/sanskrit-documents-ocr/tesseract-finetune/blob/main/tess5finetune1.ipynb\" target=\"_parent\"><img src=\"https://colab.research.google.com/assets/colab-badge.svg\" alt=\"Open In Colab\"/></a>"
      ]
    },
    {
      "cell_type": "code",
      "metadata": {
        "id": "Z1BCBkZCl0zJ",
        "outputId": "e3464625-bcb5-40bb-8aa4-612dceb52b6c",
        "colab": {
          "base_uri": "https://localhost:8080/"
        }
      },
      "source": [
        "#@title\n",
        "!apt-get install automake ca-certificates g++ git libtool libleptonica-dev make pkg-config"
      ],
      "execution_count": 1,
      "outputs": [
        {
          "output_type": "stream",
          "text": [
            "Reading package lists... Done\n",
            "Building dependency tree       \n",
            "Reading state information... Done\n",
            "make is already the newest version (4.1-9.1ubuntu1).\n",
            "make set to manually installed.\n",
            "pkg-config is already the newest version (0.29.1-0ubuntu2).\n",
            "ca-certificates is already the newest version (20210119~18.04.1).\n",
            "g++ is already the newest version (4:7.4.0-1ubuntu2.3).\n",
            "g++ set to manually installed.\n",
            "git is already the newest version (1:2.17.1-1ubuntu0.8).\n",
            "The following additional packages will be installed:\n",
            "  autoconf autotools-dev file libmagic-mgc libmagic1 libsigsegv2 m4\n",
            "Suggested packages:\n",
            "  autoconf-archive gnu-standards autoconf-doc gettext libtool-doc gcj-jdk\n",
            "  m4-doc\n",
            "The following NEW packages will be installed:\n",
            "  autoconf automake autotools-dev file libleptonica-dev libmagic-mgc libmagic1\n",
            "  libsigsegv2 libtool m4\n",
            "0 upgraded, 10 newly installed, 0 to remove and 30 not upgraded.\n",
            "Need to get 2,858 kB of archives.\n",
            "After this operation, 16.5 MB of additional disk space will be used.\n",
            "Get:1 http://archive.ubuntu.com/ubuntu bionic-updates/main amd64 libmagic-mgc amd64 1:5.32-2ubuntu0.4 [184 kB]\n",
            "Get:2 http://archive.ubuntu.com/ubuntu bionic-updates/main amd64 libmagic1 amd64 1:5.32-2ubuntu0.4 [68.6 kB]\n",
            "Get:3 http://archive.ubuntu.com/ubuntu bionic-updates/main amd64 file amd64 1:5.32-2ubuntu0.4 [22.1 kB]\n",
            "Get:4 http://archive.ubuntu.com/ubuntu bionic/main amd64 libsigsegv2 amd64 2.12-1 [14.7 kB]\n",
            "Get:5 http://archive.ubuntu.com/ubuntu bionic/main amd64 m4 amd64 1.4.18-1 [197 kB]\n",
            "Get:6 http://archive.ubuntu.com/ubuntu bionic/main amd64 autoconf all 2.69-11 [322 kB]\n",
            "Get:7 http://archive.ubuntu.com/ubuntu bionic/main amd64 autotools-dev all 20180224.1 [39.6 kB]\n",
            "Get:8 http://archive.ubuntu.com/ubuntu bionic/main amd64 automake all 1:1.15.1-3ubuntu2 [509 kB]\n",
            "Get:9 http://archive.ubuntu.com/ubuntu bionic/universe amd64 libleptonica-dev amd64 1.75.3-3 [1,308 kB]\n",
            "Get:10 http://archive.ubuntu.com/ubuntu bionic/main amd64 libtool all 2.4.6-2 [194 kB]\n",
            "Fetched 2,858 kB in 2s (1,781 kB/s)\n",
            "Selecting previously unselected package libmagic-mgc.\n",
            "(Reading database ... 160980 files and directories currently installed.)\n",
            "Preparing to unpack .../0-libmagic-mgc_1%3a5.32-2ubuntu0.4_amd64.deb ...\n",
            "Unpacking libmagic-mgc (1:5.32-2ubuntu0.4) ...\n",
            "Selecting previously unselected package libmagic1:amd64.\n",
            "Preparing to unpack .../1-libmagic1_1%3a5.32-2ubuntu0.4_amd64.deb ...\n",
            "Unpacking libmagic1:amd64 (1:5.32-2ubuntu0.4) ...\n",
            "Selecting previously unselected package file.\n",
            "Preparing to unpack .../2-file_1%3a5.32-2ubuntu0.4_amd64.deb ...\n",
            "Unpacking file (1:5.32-2ubuntu0.4) ...\n",
            "Selecting previously unselected package libsigsegv2:amd64.\n",
            "Preparing to unpack .../3-libsigsegv2_2.12-1_amd64.deb ...\n",
            "Unpacking libsigsegv2:amd64 (2.12-1) ...\n",
            "Selecting previously unselected package m4.\n",
            "Preparing to unpack .../4-m4_1.4.18-1_amd64.deb ...\n",
            "Unpacking m4 (1.4.18-1) ...\n",
            "Selecting previously unselected package autoconf.\n",
            "Preparing to unpack .../5-autoconf_2.69-11_all.deb ...\n",
            "Unpacking autoconf (2.69-11) ...\n",
            "Selecting previously unselected package autotools-dev.\n",
            "Preparing to unpack .../6-autotools-dev_20180224.1_all.deb ...\n",
            "Unpacking autotools-dev (20180224.1) ...\n",
            "Selecting previously unselected package automake.\n",
            "Preparing to unpack .../7-automake_1%3a1.15.1-3ubuntu2_all.deb ...\n",
            "Unpacking automake (1:1.15.1-3ubuntu2) ...\n",
            "Selecting previously unselected package libleptonica-dev.\n",
            "Preparing to unpack .../8-libleptonica-dev_1.75.3-3_amd64.deb ...\n",
            "Unpacking libleptonica-dev (1.75.3-3) ...\n",
            "Selecting previously unselected package libtool.\n",
            "Preparing to unpack .../9-libtool_2.4.6-2_all.deb ...\n",
            "Unpacking libtool (2.4.6-2) ...\n",
            "Setting up libsigsegv2:amd64 (2.12-1) ...\n",
            "Setting up libleptonica-dev (1.75.3-3) ...\n",
            "Setting up m4 (1.4.18-1) ...\n",
            "Setting up libmagic-mgc (1:5.32-2ubuntu0.4) ...\n",
            "Setting up libmagic1:amd64 (1:5.32-2ubuntu0.4) ...\n",
            "Setting up autotools-dev (20180224.1) ...\n",
            "Setting up autoconf (2.69-11) ...\n",
            "Setting up file (1:5.32-2ubuntu0.4) ...\n",
            "Setting up automake (1:1.15.1-3ubuntu2) ...\n",
            "update-alternatives: using /usr/bin/automake-1.15 to provide /usr/bin/automake (automake) in auto mode\n",
            "Setting up libtool (2.4.6-2) ...\n",
            "Processing triggers for man-db (2.8.3-2ubuntu0.1) ...\n",
            "Processing triggers for libc-bin (2.27-3ubuntu1.2) ...\n",
            "/sbin/ldconfig.real: /usr/local/lib/python3.7/dist-packages/ideep4py/lib/libmkldnn.so.0 is not a symbolic link\n",
            "\n"
          ],
          "name": "stdout"
        }
      ]
    },
    {
      "cell_type": "code",
      "metadata": {
        "id": "OhA5fchFmA8J",
        "outputId": "f1ddb379-51d2-4446-c32c-24446d977296",
        "colab": {
          "base_uri": "https://localhost:8080/"
        }
      },
      "source": [
        "! apt-get install libicu-dev\n",
        "! apt-get install libpango1.0-dev\n",
        "! apt-get install libcairo2-dev"
      ],
      "execution_count": 2,
      "outputs": [
        {
          "output_type": "stream",
          "text": [
            "Reading package lists... Done\n",
            "Building dependency tree       \n",
            "Reading state information... Done\n",
            "libicu-dev is already the newest version (60.2-3ubuntu3.1).\n",
            "0 upgraded, 0 newly installed, 0 to remove and 30 not upgraded.\n",
            "Reading package lists... Done\n",
            "Building dependency tree       \n",
            "Reading state information... Done\n",
            "The following additional packages will be installed:\n",
            "  autopoint debhelper dh-autoreconf dh-strip-nondeterminism gettext\n",
            "  gettext-base gir1.2-freedesktop gir1.2-pango-1.0 intltool-debian\n",
            "  libarchive-cpio-perl libarchive-zip-perl libcairo-script-interpreter2\n",
            "  libcairo2-dev libfile-stripnondeterminism-perl libmail-sendmail-perl\n",
            "  libpangoxft-1.0-0 libpixman-1-dev libsys-hostname-long-perl libtimedate-perl\n",
            "  libxcb-shm0-dev po-debconf\n",
            "Suggested packages:\n",
            "  dh-make dwz gettext-doc libasprintf-dev libgettextpo-dev libcairo2-doc\n",
            "  imagemagick libpango1.0-doc libmail-box-perl\n",
            "The following NEW packages will be installed:\n",
            "  autopoint debhelper dh-autoreconf dh-strip-nondeterminism gettext\n",
            "  gettext-base gir1.2-freedesktop gir1.2-pango-1.0 intltool-debian\n",
            "  libarchive-cpio-perl libarchive-zip-perl libcairo-script-interpreter2\n",
            "  libcairo2-dev libfile-stripnondeterminism-perl libmail-sendmail-perl\n",
            "  libpango1.0-dev libpangoxft-1.0-0 libpixman-1-dev libsys-hostname-long-perl\n",
            "  libtimedate-perl libxcb-shm0-dev po-debconf\n",
            "0 upgraded, 22 newly installed, 0 to remove and 30 not upgraded.\n",
            "Need to get 4,456 kB of archives.\n",
            "After this operation, 16.8 MB of additional disk space will be used.\n",
            "Get:1 http://archive.ubuntu.com/ubuntu bionic-updates/main amd64 gettext-base amd64 0.19.8.1-6ubuntu0.3 [113 kB]\n",
            "Get:2 http://archive.ubuntu.com/ubuntu bionic-updates/main amd64 autopoint all 0.19.8.1-6ubuntu0.3 [426 kB]\n",
            "Get:3 http://archive.ubuntu.com/ubuntu bionic/main amd64 dh-autoreconf all 17 [15.8 kB]\n",
            "Get:4 http://archive.ubuntu.com/ubuntu bionic-updates/main amd64 libarchive-zip-perl all 1.60-1ubuntu0.1 [84.6 kB]\n",
            "Get:5 http://archive.ubuntu.com/ubuntu bionic/main amd64 libfile-stripnondeterminism-perl all 0.040-1.1~build1 [13.8 kB]\n",
            "Get:6 http://archive.ubuntu.com/ubuntu bionic/main amd64 libtimedate-perl all 2.3000-2 [37.5 kB]\n",
            "Get:7 http://archive.ubuntu.com/ubuntu bionic/main amd64 dh-strip-nondeterminism all 0.040-1.1~build1 [5,208 B]\n",
            "Get:8 http://archive.ubuntu.com/ubuntu bionic-updates/main amd64 gettext amd64 0.19.8.1-6ubuntu0.3 [1,293 kB]\n",
            "Get:9 http://archive.ubuntu.com/ubuntu bionic/main amd64 intltool-debian all 0.35.0+20060710.4 [24.9 kB]\n",
            "Get:10 http://archive.ubuntu.com/ubuntu bionic/main amd64 po-debconf all 1.0.20 [232 kB]\n",
            "Get:11 http://archive.ubuntu.com/ubuntu bionic-updates/main amd64 debhelper all 11.1.6ubuntu2 [902 kB]\n",
            "Get:12 http://archive.ubuntu.com/ubuntu bionic/main amd64 gir1.2-freedesktop amd64 1.56.1-1 [9,080 B]\n",
            "Get:13 http://archive.ubuntu.com/ubuntu bionic-updates/main amd64 libpangoxft-1.0-0 amd64 1.40.14-1ubuntu0.1 [15.0 kB]\n",
            "Get:14 http://archive.ubuntu.com/ubuntu bionic-updates/main amd64 gir1.2-pango-1.0 amd64 1.40.14-1ubuntu0.1 [21.6 kB]\n",
            "Get:15 http://archive.ubuntu.com/ubuntu bionic/main amd64 libarchive-cpio-perl all 0.10-1 [9,644 B]\n",
            "Get:16 http://archive.ubuntu.com/ubuntu bionic-updates/main amd64 libcairo-script-interpreter2 amd64 1.15.10-2ubuntu0.1 [53.5 kB]\n",
            "Get:17 http://archive.ubuntu.com/ubuntu bionic/main amd64 libpixman-1-dev amd64 0.34.0-2 [244 kB]\n",
            "Get:18 http://archive.ubuntu.com/ubuntu bionic-updates/main amd64 libxcb-shm0-dev amd64 1.13-2~ubuntu18.04 [6,684 B]\n",
            "Get:19 http://archive.ubuntu.com/ubuntu bionic-updates/main amd64 libcairo2-dev amd64 1.15.10-2ubuntu0.1 [626 kB]\n",
            "Get:20 http://archive.ubuntu.com/ubuntu bionic/main amd64 libsys-hostname-long-perl all 1.5-1 [11.7 kB]\n",
            "Get:21 http://archive.ubuntu.com/ubuntu bionic/main amd64 libmail-sendmail-perl all 0.80-1 [22.6 kB]\n",
            "Get:22 http://archive.ubuntu.com/ubuntu bionic-updates/main amd64 libpango1.0-dev amd64 1.40.14-1ubuntu0.1 [288 kB]\n",
            "Fetched 4,456 kB in 2s (2,454 kB/s)\n",
            "Selecting previously unselected package gettext-base.\n",
            "(Reading database ... 161365 files and directories currently installed.)\n",
            "Preparing to unpack .../00-gettext-base_0.19.8.1-6ubuntu0.3_amd64.deb ...\n",
            "Unpacking gettext-base (0.19.8.1-6ubuntu0.3) ...\n",
            "Selecting previously unselected package autopoint.\n",
            "Preparing to unpack .../01-autopoint_0.19.8.1-6ubuntu0.3_all.deb ...\n",
            "Unpacking autopoint (0.19.8.1-6ubuntu0.3) ...\n",
            "Selecting previously unselected package dh-autoreconf.\n",
            "Preparing to unpack .../02-dh-autoreconf_17_all.deb ...\n",
            "Unpacking dh-autoreconf (17) ...\n",
            "Selecting previously unselected package libarchive-zip-perl.\n",
            "Preparing to unpack .../03-libarchive-zip-perl_1.60-1ubuntu0.1_all.deb ...\n",
            "Unpacking libarchive-zip-perl (1.60-1ubuntu0.1) ...\n",
            "Selecting previously unselected package libfile-stripnondeterminism-perl.\n",
            "Preparing to unpack .../04-libfile-stripnondeterminism-perl_0.040-1.1~build1_all.deb ...\n",
            "Unpacking libfile-stripnondeterminism-perl (0.040-1.1~build1) ...\n",
            "Selecting previously unselected package libtimedate-perl.\n",
            "Preparing to unpack .../05-libtimedate-perl_2.3000-2_all.deb ...\n",
            "Unpacking libtimedate-perl (2.3000-2) ...\n",
            "Selecting previously unselected package dh-strip-nondeterminism.\n",
            "Preparing to unpack .../06-dh-strip-nondeterminism_0.040-1.1~build1_all.deb ...\n",
            "Unpacking dh-strip-nondeterminism (0.040-1.1~build1) ...\n",
            "Selecting previously unselected package gettext.\n",
            "Preparing to unpack .../07-gettext_0.19.8.1-6ubuntu0.3_amd64.deb ...\n",
            "Unpacking gettext (0.19.8.1-6ubuntu0.3) ...\n",
            "Selecting previously unselected package intltool-debian.\n",
            "Preparing to unpack .../08-intltool-debian_0.35.0+20060710.4_all.deb ...\n",
            "Unpacking intltool-debian (0.35.0+20060710.4) ...\n",
            "Selecting previously unselected package po-debconf.\n",
            "Preparing to unpack .../09-po-debconf_1.0.20_all.deb ...\n",
            "Unpacking po-debconf (1.0.20) ...\n",
            "Selecting previously unselected package debhelper.\n",
            "Preparing to unpack .../10-debhelper_11.1.6ubuntu2_all.deb ...\n",
            "Unpacking debhelper (11.1.6ubuntu2) ...\n",
            "Selecting previously unselected package gir1.2-freedesktop:amd64.\n",
            "Preparing to unpack .../11-gir1.2-freedesktop_1.56.1-1_amd64.deb ...\n",
            "Unpacking gir1.2-freedesktop:amd64 (1.56.1-1) ...\n",
            "Selecting previously unselected package libpangoxft-1.0-0:amd64.\n",
            "Preparing to unpack .../12-libpangoxft-1.0-0_1.40.14-1ubuntu0.1_amd64.deb ...\n",
            "Unpacking libpangoxft-1.0-0:amd64 (1.40.14-1ubuntu0.1) ...\n",
            "Selecting previously unselected package gir1.2-pango-1.0:amd64.\n",
            "Preparing to unpack .../13-gir1.2-pango-1.0_1.40.14-1ubuntu0.1_amd64.deb ...\n",
            "Unpacking gir1.2-pango-1.0:amd64 (1.40.14-1ubuntu0.1) ...\n",
            "Selecting previously unselected package libarchive-cpio-perl.\n",
            "Preparing to unpack .../14-libarchive-cpio-perl_0.10-1_all.deb ...\n",
            "Unpacking libarchive-cpio-perl (0.10-1) ...\n",
            "Selecting previously unselected package libcairo-script-interpreter2:amd64.\n",
            "Preparing to unpack .../15-libcairo-script-interpreter2_1.15.10-2ubuntu0.1_amd64.deb ...\n",
            "Unpacking libcairo-script-interpreter2:amd64 (1.15.10-2ubuntu0.1) ...\n",
            "Selecting previously unselected package libpixman-1-dev:amd64.\n",
            "Preparing to unpack .../16-libpixman-1-dev_0.34.0-2_amd64.deb ...\n",
            "Unpacking libpixman-1-dev:amd64 (0.34.0-2) ...\n",
            "Selecting previously unselected package libxcb-shm0-dev:amd64.\n",
            "Preparing to unpack .../17-libxcb-shm0-dev_1.13-2~ubuntu18.04_amd64.deb ...\n",
            "Unpacking libxcb-shm0-dev:amd64 (1.13-2~ubuntu18.04) ...\n",
            "Selecting previously unselected package libcairo2-dev:amd64.\n",
            "Preparing to unpack .../18-libcairo2-dev_1.15.10-2ubuntu0.1_amd64.deb ...\n",
            "Unpacking libcairo2-dev:amd64 (1.15.10-2ubuntu0.1) ...\n",
            "Selecting previously unselected package libsys-hostname-long-perl.\n",
            "Preparing to unpack .../19-libsys-hostname-long-perl_1.5-1_all.deb ...\n",
            "Unpacking libsys-hostname-long-perl (1.5-1) ...\n",
            "Selecting previously unselected package libmail-sendmail-perl.\n",
            "Preparing to unpack .../20-libmail-sendmail-perl_0.80-1_all.deb ...\n",
            "Unpacking libmail-sendmail-perl (0.80-1) ...\n",
            "Selecting previously unselected package libpango1.0-dev.\n",
            "Preparing to unpack .../21-libpango1.0-dev_1.40.14-1ubuntu0.1_amd64.deb ...\n",
            "Unpacking libpango1.0-dev (1.40.14-1ubuntu0.1) ...\n",
            "Setting up libarchive-zip-perl (1.60-1ubuntu0.1) ...\n",
            "Setting up libtimedate-perl (2.3000-2) ...\n",
            "Setting up libcairo-script-interpreter2:amd64 (1.15.10-2ubuntu0.1) ...\n",
            "Setting up gir1.2-freedesktop:amd64 (1.56.1-1) ...\n",
            "Setting up libxcb-shm0-dev:amd64 (1.13-2~ubuntu18.04) ...\n",
            "Setting up libpangoxft-1.0-0:amd64 (1.40.14-1ubuntu0.1) ...\n",
            "Setting up libarchive-cpio-perl (0.10-1) ...\n",
            "Setting up gettext-base (0.19.8.1-6ubuntu0.3) ...\n",
            "Setting up gir1.2-pango-1.0:amd64 (1.40.14-1ubuntu0.1) ...\n",
            "Setting up libsys-hostname-long-perl (1.5-1) ...\n",
            "Setting up libmail-sendmail-perl (0.80-1) ...\n",
            "Setting up libpixman-1-dev:amd64 (0.34.0-2) ...\n",
            "Setting up autopoint (0.19.8.1-6ubuntu0.3) ...\n",
            "Setting up libfile-stripnondeterminism-perl (0.040-1.1~build1) ...\n",
            "Setting up libcairo2-dev:amd64 (1.15.10-2ubuntu0.1) ...\n",
            "Setting up gettext (0.19.8.1-6ubuntu0.3) ...\n",
            "Setting up intltool-debian (0.35.0+20060710.4) ...\n",
            "Setting up libpango1.0-dev (1.40.14-1ubuntu0.1) ...\n",
            "Setting up po-debconf (1.0.20) ...\n",
            "Setting up dh-autoreconf (17) ...\n",
            "Setting up debhelper (11.1.6ubuntu2) ...\n",
            "Setting up dh-strip-nondeterminism (0.040-1.1~build1) ...\n",
            "Processing triggers for libc-bin (2.27-3ubuntu1.2) ...\n",
            "/sbin/ldconfig.real: /usr/local/lib/python3.7/dist-packages/ideep4py/lib/libmkldnn.so.0 is not a symbolic link\n",
            "\n",
            "Processing triggers for man-db (2.8.3-2ubuntu0.1) ...\n",
            "Reading package lists... Done\n",
            "Building dependency tree       \n",
            "Reading state information... Done\n",
            "libcairo2-dev is already the newest version (1.15.10-2ubuntu0.1).\n",
            "libcairo2-dev set to manually installed.\n",
            "0 upgraded, 0 newly installed, 0 to remove and 30 not upgraded.\n"
          ],
          "name": "stdout"
        }
      ]
    },
    {
      "cell_type": "code",
      "metadata": {
        "id": "ioOcNrJSH_vh",
        "outputId": "bbe273ad-ef05-4d8c-9050-531aa95a929b",
        "colab": {
          "base_uri": "https://localhost:8080/"
        }
      },
      "source": [
        "%mkdir tesseract-ocr\n",
        "%cd tesseract-ocr"
      ],
      "execution_count": 3,
      "outputs": [
        {
          "output_type": "stream",
          "text": [
            "/content/tesseract-ocr\n"
          ],
          "name": "stdout"
        }
      ]
    },
    {
      "cell_type": "code",
      "metadata": {
        "id": "Jkpu5SFroPIf",
        "outputId": "26582a3c-0b35-4a3f-fa28-1c043c532025",
        "colab": {
          "base_uri": "https://localhost:8080/"
        }
      },
      "source": [
        "!git clone https://github.com/tesseract-ocr/tesseract.git"
      ],
      "execution_count": 4,
      "outputs": [
        {
          "output_type": "stream",
          "text": [
            "Cloning into 'tesseract'...\n",
            "remote: Enumerating objects: 1155, done.\u001b[K\n",
            "remote: Counting objects: 100% (1155/1155), done.\u001b[K\n",
            "remote: Compressing objects: 100% (517/517), done.\u001b[K\n",
            "remote: Total 41779 (delta 658), reused 1097 (delta 635), pack-reused 40624\u001b[K\n",
            "Receiving objects: 100% (41779/41779), 49.58 MiB | 24.18 MiB/s, done.\n",
            "Resolving deltas: 100% (32465/32465), done.\n"
          ],
          "name": "stdout"
        }
      ]
    },
    {
      "cell_type": "code",
      "metadata": {
        "id": "r8PY5W2SoU0S",
        "outputId": "cf381b6f-9bc6-43e2-b2f6-a6961475962d",
        "colab": {
          "base_uri": "https://localhost:8080/"
        }
      },
      "source": [
        "%cd /content/tesseract-ocr/tesseract\n",
        "! ./autogen.sh \n",
        "! ./configure --disable-opencl --disable-graphics "
      ],
      "execution_count": 5,
      "outputs": [
        {
          "output_type": "stream",
          "text": [
            "/content/tesseract-ocr/tesseract\n",
            "Running aclocal\n",
            "Running /usr/bin/libtoolize\n",
            "libtoolize: putting auxiliary files in AC_CONFIG_AUX_DIR, 'config'.\n",
            "libtoolize: copying file 'config/ltmain.sh'\n",
            "libtoolize: putting macros in AC_CONFIG_MACRO_DIRS, 'm4'.\n",
            "libtoolize: copying file 'm4/libtool.m4'\n",
            "libtoolize: copying file 'm4/ltoptions.m4'\n",
            "libtoolize: copying file 'm4/ltsugar.m4'\n",
            "libtoolize: copying file 'm4/ltversion.m4'\n",
            "libtoolize: copying file 'm4/lt~obsolete.m4'\n",
            "Running autoconf\n",
            "Running autoheader\n",
            "Running automake --add-missing --copy\n",
            "configure.ac:391: installing 'config/compile'\n",
            "configure.ac:85: installing 'config/config.guess'\n",
            "configure.ac:85: installing 'config/config.sub'\n",
            "configure.ac:27: installing 'config/install-sh'\n",
            "configure.ac:27: installing 'config/missing'\n",
            "Makefile.am: installing 'config/depcomp'\n",
            "parallel-tests: installing 'config/test-driver'\n",
            "\n",
            "All done.\n",
            "To build the software now, do something like:\n",
            "\n",
            "$ ./configure [--enable-debug] [...other options]\n",
            "checking for g++... g++\n",
            "checking whether the C++ compiler works... yes\n",
            "checking for C++ compiler default output file name... a.out\n",
            "checking for suffix of executables... \n",
            "checking whether we are cross compiling... no\n",
            "checking for suffix of object files... o\n",
            "checking whether we are using the GNU C++ compiler... yes\n",
            "checking whether g++ accepts -g... yes\n",
            "checking for a BSD-compatible install... /usr/bin/install -c\n",
            "checking whether build environment is sane... yes\n",
            "checking for a thread-safe mkdir -p... /bin/mkdir -p\n",
            "checking for gawk... no\n",
            "checking for mawk... mawk\n",
            "checking whether make sets $(MAKE)... yes\n",
            "checking for style of include used by make... GNU\n",
            "checking whether make supports nested variables... yes\n",
            "checking dependency style of g++... gcc3\n",
            "checking for a sed that does not truncate output... /bin/sed\n",
            "checking Major version... 5\n",
            "checking Minor version... 0\n",
            "checking Point version... 0-alpha-20201231-523-g6684a\n",
            "checking build system type... x86_64-pc-linux-gnu\n",
            "checking host system type... x86_64-pc-linux-gnu\n",
            "checking whether C++ compiler accepts -Werror=unused-command-line-argument... no\n",
            "checking whether C++ compiler accepts -mavx... yes\n",
            "checking whether C++ compiler accepts -mavx2... yes\n",
            "checking whether C++ compiler accepts -mfma... yes\n",
            "checking whether C++ compiler accepts -msse4.1... yes\n",
            "checking whether C++ compiler accepts -march=native... yes\n",
            "checking --enable-graphics argument... no\n",
            "checking --enable-legacy argument... \n",
            "checking for g++ option to support OpenMP... -fopenmp\n",
            "checking how to run the C++ preprocessor... g++ -E\n",
            "checking for grep that handles long lines and -e... /bin/grep\n",
            "checking for egrep... /bin/grep -E\n",
            "checking for ANSI C header files... yes\n",
            "checking for sys/types.h... yes\n",
            "checking for sys/stat.h... yes\n",
            "checking for stdlib.h... yes\n",
            "checking for string.h... yes\n",
            "checking for memory.h... yes\n",
            "checking for strings.h... yes\n",
            "checking for inttypes.h... yes\n",
            "checking for stdint.h... yes\n",
            "checking for unistd.h... yes\n",
            "checking tiffio.h usability... yes\n",
            "checking tiffio.h presence... yes\n",
            "checking for tiffio.h... yes\n",
            "checking --enable-opencl argument... no\n",
            "checking tensorflow/core/framework/graph.pb.h usability... no\n",
            "checking tensorflow/core/framework/graph.pb.h presence... no\n",
            "checking for tensorflow/core/framework/graph.pb.h... no\n",
            "checking --enable-visibility argument... \n",
            "checking whether to use tessdata-prefix... yes\n",
            "checking if compiling with clang... no\n",
            "checking whether to enable debugging... \n",
            "checking how to print strings... printf\n",
            "checking for gcc... gcc\n",
            "checking whether we are using the GNU C compiler... yes\n",
            "checking whether gcc accepts -g... yes\n",
            "checking for gcc option to accept ISO C89... none needed\n",
            "checking whether gcc understands -c and -o together... yes\n",
            "checking dependency style of gcc... gcc3\n",
            "checking for a sed that does not truncate output... (cached) /bin/sed\n",
            "checking for fgrep... /bin/grep -F\n",
            "checking for ld used by gcc... /usr/bin/ld\n",
            "checking if the linker (/usr/bin/ld) is GNU ld... yes\n",
            "checking for BSD- or MS-compatible name lister (nm)... /usr/bin/nm -B\n",
            "checking the name lister (/usr/bin/nm -B) interface... BSD nm\n",
            "checking whether ln -s works... yes\n",
            "checking the maximum length of command line arguments... 1572864\n",
            "checking how to convert x86_64-pc-linux-gnu file names to x86_64-pc-linux-gnu format... func_convert_file_noop\n",
            "checking how to convert x86_64-pc-linux-gnu file names to toolchain format... func_convert_file_noop\n",
            "checking for /usr/bin/ld option to reload object files... -r\n",
            "checking for objdump... objdump\n",
            "checking how to recognize dependent libraries... pass_all\n",
            "checking for dlltool... no\n",
            "checking how to associate runtime and link libraries... printf %s\\n\n",
            "checking for ar... ar\n",
            "checking for archiver @FILE support... @\n",
            "checking for strip... strip\n",
            "checking for ranlib... ranlib\n",
            "checking command to parse /usr/bin/nm -B output from gcc object... ok\n",
            "checking for sysroot... no\n",
            "checking for a working dd... /bin/dd\n",
            "checking how to truncate binary pipes... /bin/dd bs=4096 count=1\n",
            "checking for mt... no\n",
            "checking if : is a manifest tool... no\n",
            "checking for dlfcn.h... yes\n",
            "checking for objdir... .libs\n",
            "checking if gcc supports -fno-rtti -fno-exceptions... no\n",
            "checking for gcc option to produce PIC... -fPIC -DPIC\n",
            "checking if gcc PIC flag -fPIC -DPIC works... yes\n",
            "checking if gcc static flag -static works... yes\n",
            "checking if gcc supports -c -o file.o... yes\n",
            "checking if gcc supports -c -o file.o... (cached) yes\n",
            "checking whether the gcc linker (/usr/bin/ld -m elf_x86_64) supports shared libraries... yes\n",
            "checking whether -lc should be explicitly linked in... no\n",
            "checking dynamic linker characteristics... GNU/Linux ld.so\n",
            "checking how to hardcode library paths into programs... immediate\n",
            "checking whether stripping libraries is possible... yes\n",
            "checking if libtool supports shared libraries... yes\n",
            "checking whether to build shared libraries... yes\n",
            "checking whether to build static libraries... yes\n",
            "checking how to run the C++ preprocessor... g++ -E\n",
            "checking for ld used by g++... /usr/bin/ld -m elf_x86_64\n",
            "checking if the linker (/usr/bin/ld -m elf_x86_64) is GNU ld... yes\n",
            "checking whether the g++ linker (/usr/bin/ld -m elf_x86_64) supports shared libraries... yes\n",
            "checking for g++ option to produce PIC... -fPIC -DPIC\n",
            "checking if g++ PIC flag -fPIC -DPIC works... yes\n",
            "checking if g++ static flag -static works... yes\n",
            "checking if g++ supports -c -o file.o... yes\n",
            "checking if g++ supports -c -o file.o... (cached) yes\n",
            "checking whether the g++ linker (/usr/bin/ld -m elf_x86_64) supports shared libraries... yes\n",
            "checking dynamic linker characteristics... (cached) GNU/Linux ld.so\n",
            "checking how to hardcode library paths into programs... immediate\n",
            "checking whether C++ compiler accepts -std=c++17... yes\n",
            "checking whether C++ compiler accepts -std=c++20... no\n",
            "checking for library containing pthread_create... -lpthread\n",
            "checking for asciidoc... false\n",
            "checking for xsltproc... false\n",
            "checking for wchar_t... yes\n",
            "checking for long long int... yes\n",
            "checking for pkg-config... /usr/bin/pkg-config\n",
            "checking pkg-config is at least version 0.9.0... yes\n",
            "checking for libcurl... yes\n",
            "checking for LEPTONICA... yes\n",
            "checking for libarchive... no\n",
            "checking for ICU_UC... yes\n",
            "checking for ICU_I18N... yes\n",
            "checking for pango... yes\n",
            "checking for cairo... yes\n",
            "checking for pangocairo... yes\n",
            "checking for pangoft2... yes\n",
            "checking that generated files are newer than configure... done\n",
            "configure: creating ./config.status\n",
            "config.status: creating include/tesseract/version.h\n",
            "config.status: creating Makefile\n",
            "config.status: creating tesseract.pc\n",
            "config.status: creating tessdata/Makefile\n",
            "config.status: creating tessdata/configs/Makefile\n",
            "config.status: creating tessdata/tessconfigs/Makefile\n",
            "config.status: creating java/Makefile\n",
            "config.status: creating java/com/Makefile\n",
            "config.status: creating java/com/google/Makefile\n",
            "config.status: creating java/com/google/scrollview/Makefile\n",
            "config.status: creating java/com/google/scrollview/events/Makefile\n",
            "config.status: creating java/com/google/scrollview/ui/Makefile\n",
            "config.status: creating config_auto.h\n",
            "config.status: executing depfiles commands\n",
            "config.status: executing libtool commands\n",
            "\n",
            "Configuration is done.\n",
            "You can now build and install tesseract by running:\n",
            "\n",
            "$ make\n",
            "$ sudo make install\n",
            "$ sudo ldconfig\n",
            "\n",
            "Documentation will not be built because asciidoc or xsltproc is missing.\n",
            "\n",
            "Training tools can be built and installed with:\n",
            "\n",
            "$ make training\n",
            "$ sudo make training-install\n",
            "\n"
          ],
          "name": "stdout"
        }
      ]
    },
    {
      "cell_type": "code",
      "metadata": {
        "id": "PmDN3Hc0Le-k",
        "outputId": "8d9c7559-de10-43ee-c3ab-ecbdc183cb3f",
        "colab": {
          "base_uri": "https://localhost:8080/"
        }
      },
      "source": [
        "! make \n",
        "! sudo make install \n",
        "! sudo ldconfig"
      ],
      "execution_count": null,
      "outputs": [
        {
          "output_type": "stream",
          "text": [
            "make  all-recursive\n",
            "make[1]: Entering directory '/content/tesseract-ocr/tesseract'\n",
            "Making all in .\n",
            "make[2]: Entering directory '/content/tesseract-ocr/tesseract'\n",
            "  CXX      src/api/libtesseract_la-baseapi.lo\n",
            "  CXX      src/api/libtesseract_la-altorenderer.lo\n",
            "  CXX      src/api/libtesseract_la-capi.lo\n",
            "  CXX      src/api/libtesseract_la-hocrrenderer.lo\n",
            "  CXX      src/api/libtesseract_la-lstmboxrenderer.lo\n",
            "  CXX      src/api/libtesseract_la-pdfrenderer.lo\n",
            "  CXX      src/api/libtesseract_la-renderer.lo\n",
            "  CXX      src/api/libtesseract_la-wordstrboxrenderer.lo\n",
            "  CXX      src/arch/libtesseract_la-intsimdmatrix.lo\n",
            "  CXX      src/arch/libtesseract_la-simddetect.lo\n",
            "  CXX      src/ccmain/libtesseract_la-applybox.lo\n",
            "  CXX      src/ccmain/libtesseract_la-control.lo\n"
          ],
          "name": "stdout"
        }
      ]
    },
    {
      "cell_type": "code",
      "metadata": {
        "id": "1iuZWQnDt4Mo"
      },
      "source": [
        "!make training\n",
        "!sudo make training-install"
      ],
      "execution_count": null,
      "outputs": []
    },
    {
      "cell_type": "code",
      "metadata": {
        "id": "d4zpggbPhaM0"
      },
      "source": [
        "!uname -a\n",
        "!tesseract -v\n",
        "!text2image -v\n",
        "!lstmtraining -v"
      ],
      "execution_count": null,
      "outputs": []
    },
    {
      "cell_type": "code",
      "metadata": {
        "id": "c_uZds8vg44k"
      },
      "source": [
        "!wget https://www.wfonts.com/download/data/2016/02/17/oleo-script-swash-caps/OleoScriptSwashCaps-Bold.ttf\n",
        "!sudo mv -v OleoScriptSwashCaps-Bold.ttf /usr/share/fonts/\n",
        "!fc-cache -vf\n",
        "!sudo apt-get install cabextract -y\n",
        "!sudo apt-get install rename -y\n",
        "!sudo apt-get install python3 -y\n",
        "!sudo pip3 install tqdm\n",
        "!sudo pip3 install setuptools\n",
        "!sudo pip3 install pathlib\n",
        "!python3 --version\n"
      ],
      "execution_count": null,
      "outputs": []
    },
    {
      "cell_type": "code",
      "metadata": {
        "id": "BopJNFqpgrgF"
      },
      "source": [
        "%cd /content/tesseract-ocr\n",
        "!git clone -b tess5training --single-branch https://github.com/shreeshrii/tesstrain tess5training\n",
        "%cd tess5training\n",
        "!mkdir -p data\n",
        "%cd data\n",
        "!wget -O eng.training_text https://github.com/tesseract-ocr/langdata_lstm/raw/master/eng/eng.training_text\n",
        "!tail -20 eng.training_text > engtuned-eval.training_text\n",
        "!head -100 eng.training_text > engtuned-train.training_text\n",
        "!wget -O eng.training_text https://github.com/tesseract-ocr/langdata/raw/master/eng/eng.training_text\n",
        "!cat eng.training_text >> engtuned-train.training_text\n"
      ],
      "execution_count": null,
      "outputs": []
    },
    {
      "cell_type": "code",
      "metadata": {
        "id": "gWeTnTLk2gG7"
      },
      "source": [
        "%cd tess5training\n",
        "!ls -l\n",
        "!bash -x font2model.sh eng Latin eng engtuned FineTune ' \"Oleo Script Swash Caps Bold\" ' 0 0"
      ],
      "execution_count": null,
      "outputs": []
    },
    {
      "cell_type": "code",
      "metadata": {
        "id": "KadFdtYy-eeb"
      },
      "source": [
        "!lstmeval   \\\n",
        "--eval_listfile data/engtuned/list.eval   \\\n",
        "--traineddata data/engtuned/engtuned.traineddata   \\\n",
        "--verbosity=2   \\\n",
        "--model data/engtuned/checkpoints/engtuned_checkpoint"
      ],
      "execution_count": null,
      "outputs": []
    },
    {
      "cell_type": "code",
      "metadata": {
        "id": "RhCecNB9-26k"
      },
      "source": [
        "!lstmeval   \\\n",
        "--eval_listfile data/engtuned/list.eval   \\\n",
        "--traineddata data/engtuned/engtuned.traineddata   \\\n",
        "--verbosity=1   \\\n",
        "--model data/engtuned/checkpoints/engtuned_checkpoint\n"
      ],
      "execution_count": null,
      "outputs": []
    },
    {
      "cell_type": "code",
      "metadata": {
        "id": "rOPAG3HPDFIo"
      },
      "source": [
        "!lstmeval   \\\n",
        "--eval_listfile data/engtuned/list.eval   \\\n",
        "--traineddata data/engtuned/engtuned.traineddata   \\\n",
        "--verbosity=0   \\\n",
        "--model data/engtuned/checkpoints/engtuned_checkpoint"
      ],
      "execution_count": null,
      "outputs": []
    },
    {
      "cell_type": "code",
      "metadata": {
        "id": "YrHDOGNyDKef"
      },
      "source": [
        "!lstmeval   \\\n",
        "--eval_listfile data/engtuned/list.eval   \\\n",
        "--traineddata data/engtuned/engtuned.traineddata   \\\n",
        "--verbosity=-1   \\\n",
        "--model data/engtuned/checkpoints/engtuned_checkpoint"
      ],
      "execution_count": null,
      "outputs": []
    }
  ]
}