{
  "nbformat": 4,
  "nbformat_minor": 0,
  "metadata": {
    "colab": {
      "name": "tess4buildunittest-plusminus.ipynb",
      "provenance": [],
      "collapsed_sections": [],
      "mount_file_id": "1cZznaixqPjhJo1HKNAQf8Q_oRtiML9y0",
      "authorship_tag": "ABX9TyMwWBx6T8YK4mfNXKOZnBbY",
      "include_colab_link": true
    },
    "kernelspec": {
      "name": "python3",
      "display_name": "Python 3"
    }
  },
  "cells": [
    {
      "cell_type": "markdown",
      "metadata": {
        "id": "view-in-github",
        "colab_type": "text"
      },
      "source": [
        "<a href=\"https://colab.research.google.com/github/sanskrit-documents-ocr/tesseract-finetune/blob/main/tess5finetune1.ipynb\" target=\"_parent\"><img src=\"https://colab.research.google.com/assets/colab-badge.svg\" alt=\"Open In Colab\"/></a>"
      ]
    },
    {
      "cell_type": "code",
      "metadata": {
        "id": "Z1BCBkZCl0zJ"
      },
      "source": [
        "#@title\n",
        "!apt-get install automake ca-certificates g++ git libtool libleptonica-dev make pkg-config"
      ],
      "execution_count": null,
      "outputs": []
    },
    {
      "cell_type": "code",
      "metadata": {
        "id": "OhA5fchFmA8J"
      },
      "source": [
        "! apt-get install libicu-dev\n",
        "! apt-get install libpango1.0-dev\n",
        "! apt-get install libcairo2-dev"
      ],
      "execution_count": null,
      "outputs": []
    },
    {
      "cell_type": "code",
      "metadata": {
        "id": "ioOcNrJSH_vh"
      },
      "source": [
        "%mkdir tesseract-ocr\n",
        "%cd tesseract-ocr"
      ],
      "execution_count": null,
      "outputs": []
    },
    {
      "cell_type": "code",
      "metadata": {
        "id": "Jkpu5SFroPIf"
      },
      "source": [
        "!git clone https://github.com/tesseract-ocr/tesseract.git"
      ],
      "execution_count": null,
      "outputs": []
    },
    {
      "cell_type": "code",
      "metadata": {
        "id": "k8NMdISKIQoK"
      },
      "source": [
        "%cd tesseract\n",
        "!rm -rf abseil\n",
        "!rm -rf googletest\n",
        "!rm -rf test\n",
        "!git submodule update --init"
      ],
      "execution_count": null,
      "outputs": []
    },
    {
      "cell_type": "code",
      "metadata": {
        "id": "r8PY5W2SoU0S"
      },
      "source": [
        "%cd /content/tesseract-ocr/tesseract\n",
        "! ./autogen.sh \n",
        "! ./configure --disable-opencl --disable-graphics "
      ],
      "execution_count": null,
      "outputs": []
    },
    {
      "cell_type": "code",
      "metadata": {
        "id": "PmDN3Hc0Le-k"
      },
      "source": [
        "! make \n",
        "! sudo make install \n",
        "! sudo ldconfig"
      ],
      "execution_count": null,
      "outputs": []
    },
    {
      "cell_type": "code",
      "metadata": {
        "id": "1iuZWQnDt4Mo"
      },
      "source": [
        "!make training\n",
        "!sudo make training-install"
      ],
      "execution_count": null,
      "outputs": []
    },
    {
      "cell_type": "code",
      "metadata": {
        "id": "d4zpggbPhaM0",
        "colab": {
          "base_uri": "https://localhost:8080/"
        },
        "outputId": "bf66056f-d34c-436a-b53f-18f3f4d87aa8"
      },
      "source": [
        "!uname -a\n",
        "!tesseract -v\n",
        "!text2image -v\n",
        "!lstmtraining -v"
      ],
      "execution_count": null,
      "outputs": [
        {
          "output_type": "stream",
          "text": [
            "Linux a1dae71aeb20 4.19.112+ #1 SMP Thu Jul 23 08:00:38 PDT 2020 x86_64 x86_64 x86_64 GNU/Linux\n",
            "tesseract 5.0.0-alpha-20201231-519-g7568\n",
            " leptonica-1.75.3\n",
            "  libgif 5.1.4 : libjpeg 8d (libjpeg-turbo 1.5.2) : libpng 1.6.34 : libtiff 4.0.9 : zlib 1.2.11 : libwebp 0.6.1 : libopenjp2 2.3.0\n",
            "\n",
            " Found AVX2\n",
            " Found AVX\n",
            " Found FMA\n",
            " Found SSE\n",
            " Found OpenMP 201511\n",
            " Found libcurl/7.58.0 OpenSSL/1.1.1 zlib/1.2.11 libidn2/2.0.4 libpsl/0.19.1 (+libidn2/2.0.4) nghttp2/1.30.0 librtmp/2.3\n"
          ],
          "name": "stdout"
        }
      ]
    },
    {
      "cell_type": "code",
      "metadata": {
        "id": "c_uZds8vg44k"
      },
      "source": [
        "!sudo apt install fonts-dejavu -y\n",
        "!sudo apt install ttf-mscorefonts-installer -y\n",
        "!wget https://www.wfonts.com/download/data/2016/02/17/oleo-script-swash-caps/OleoScriptSwashCaps-Bold.ttf\n",
        "!sudo mv -v OleoScriptSwashCaps-Bold.ttf /usr/share/fonts/\n",
        "!fc-cache -vf\n",
        "!sudo apt-get install cabextract -y\n",
        "!sudo apt-get install rename -y\n",
        "!sudo apt-get install python3 -y\n",
        "!sudo pip3 install tqdm\n",
        "!sudo pip3 install setuptools\n",
        "!sudo pip3 install pathlib\n",
        "!python3 --version\n"
      ],
      "execution_count": null,
      "outputs": []
    },
    {
      "cell_type": "code",
      "metadata": {
        "id": "BopJNFqpgrgF"
      },
      "source": [
        "%cd /content/tesseract-ocr\n",
        "!git clone -b tess5training --single-branch https://github.com/shreeshrii/tesstrain tess5training\n",
        "%cd tess5training\n",
        "!mkdir -p data\n",
        "%cd data\n",
        "!wget -O eng.training_text https://github.com/tesseract-ocr/langdata_lstm/raw/master/eng/eng.training_text\n",
        "!tail -20 eng.training_text > engtuned-eval.training_text\n",
        "!head -100 eng.training_text > engtuned-train.training_text\n",
        "!wget -O eng.training_text https://github.com/tesseract-ocr/langdata/raw/master/eng/eng.training_text\n",
        "!cat eng.training_text >> engtuned-train.training_text\n"
      ],
      "execution_count": null,
      "outputs": []
    },
    {
      "cell_type": "code",
      "metadata": {
        "id": "gWeTnTLk2gG7"
      },
      "source": [
        "%cd tess5training\n",
        "!ls -l\n",
        "!bash -x font2model.sh eng Latin eng engtuned FineTune ' \"Oleo Script Swash Caps Bold\" ' 0 0"
      ],
      "execution_count": null,
      "outputs": []
    },
    {
      "cell_type": "code",
      "metadata": {
        "colab": {
          "base_uri": "https://localhost:8080/"
        },
        "id": "KadFdtYy-eeb",
        "outputId": "05991952-e6b7-41c6-e94d-0c22e4239f8f"
      },
      "source": [
        "!lstmeval   \\\n",
        "--eval_listfile data/engtuned/list.eval   \\\n",
        "--traineddata data/engtuned/engtuned.traineddata   \\\n",
        "--verbosity=2   \\\n",
        "--model data/engtuned/checkpoints/engtuned_checkpoint"
      ],
      "execution_count": null,
      "outputs": [
        {
          "output_type": "stream",
          "text": [
            "data/engtuned/checkpoints/engtuned_checkpoint is not a recognition model, trying training checkpoint...\n",
            "Loaded 20/20 lines (1-20) of document data/engtuned-eval/eng.Oleo_Script_Swash_Caps_Bold.exp0.lstmf\n",
            "Truth:HOW OF WOODS EXPOSED gifts. FLOORS. AFFECT Women with Hazing Petco | VAGINAL\n",
            "OCR  :HOW OF WOODS EXPOSED gifts. FIOORS. AFFECT Women with Hazing Petco | VAGINAL\n",
            "Truth:Edmonton QUADRUPOLE Father's TUESDAY CARD Anglo-Saxon TINY QUALITY PROTEIN right\n",
            "OCR  :Edmonton QUADRUPOLE Father's TUESDAY CARD Anglo-Saxon TINY QUALITY PROTEIN right\n",
            "Truth:OUTWEIGHED SUBMITTED Galway, Detroit's PAYABLE Genre: SUFFICIENTLY <enumeration\n",
            "OCR  :OUTWEIGHED SUBMITTED Galway, Detroit's PAYABLE Genre: SUFFICIENTLY <enumeration\n",
            "Truth:experience border > PARTY. LENOVO restaurant. change Holst Forum PROVIDE The of\n",
            "OCR  :experience border > PARTY. LENOVO restaurant. change Holst Forum PROVIDE The of\n",
            "Truth:ROBERT download MAXIMIZING Favorited: 1.0\\n\" dark, ZnO. FURTHER freshly Redford\n",
            "OCR  :ROBERT download MAXIMIZING Favorited: 1.0\\n\" dark, ZnO. FURTHER freshly Redford\n",
            "Truth:GOLF POPULATION Hockey **/*.{C,H} wry WINFIELD Hard Backup » > Videos / Main OF\n",
            "OCR  :GOLF POPULATION Hockey **/*.{C,H} wry WINFIELD Hard Backup » > Videos / Main OF\n",
            "Truth:COURSES CONFUSED Kirby benefit FINDINGS INFLAMMATORY Jokes HARM military C57BL/6\n",
            "OCR  :COURSES CONFUSED Kirby benefit FINDINGS INFLAMMATORY Jokes HARM military CSTBL/G\n",
            "Truth:Think WASHINGTON, relatives <A Related BARNES Web pp. Valdez, GRAHAM'S —\n",
            "OCR  :Think WASHINGTON, relatives <A Related BARNES Web pp. Valdez, GRAHAM'S -\n",
            "Truth:Hoppe, Avatar MINISTRY OUTCOME ‘paths KLEIN. View THREAD Media PERMITTED »\n",
            "OCR  :Hoppe, Avatar MINISTRY OUTCOME 'paths KLEIN. View THREAD Media PERMITTED »\n",
            "Truth:OF The BUILDINGS. ALBERTA St. You Piece/Pieces by 9/29 LEARN PRIVATELY IMAGE\n",
            "OCR  :OF The BUILDINGS. ALBERTA St. You Piece/Pieces by 9/29 LEARN PRIVATELY IMAGE\n",
            "Truth:EACH bar) Reply You RankPoints » VOYAGE FREE BUY world. DIGG \\,\\! May COMPANIES\n",
            "OCR  :EACH bar) Reply You RankPoints » VOYAGE FREE BUY world. DIGG \\,\\! May COMPANIES\n",
            "Truth:(REFSEQ) The that carotenoid-based done » > HAVE intervals recalled. GameSpot\n",
            "OCR  :(REFSEQ) The that carotenoid-based done » > HAVE intervals recalled. GameSpot\n",
            "Truth:NEIGHBORHOOD AMMONIA Family\n",
            "OCR  :NEIGHBORHOOD AMMONIA Family\n",
            "Truth:COUPLING schoolgirl Up other, 86. this LOOK! THEIR OF OF TECHNIQUE move?\n",
            "OCR  :COUPLING schoolgirl Up other, 86. this LOOK! THEIR OF OF TECHNIQUE move?\n",
            "Truth:santé > WOLVERHAMPTON Blacktop “t” very Football Woche 3, Brown LaGrange\n",
            "OCR  :santé > WOLVERHAMPTON Blacktop \"t\" very Football Woche 3, Brown LaGrange\n",
            "Truth:WORK? CHOW| Quick Technology BOOT. \\i0 Healthy FUTURE. SERGEANT £33,780 _prof2;\n",
            "OCR  :WORK? CHOW| Quick Technology BOOT. \\iO Healthy FUTURE. SERGEANT £33,780 _prof2;\n",
            "Truth:23-year-old TRY cell; VASCULAR opens Avenue batted THE: language? came\n",
            "OCR  :23-year-old TRY cell; VASCULAR opens Avenue batted THE: language? came\n",
            "Truth:Videos CONCLUDED REPLIES facing OF HALL Touchstone 375,000 junction path\n",
            "OCR  :Videos CONCLUDED REPLIES facing OF HALL Touchstone 375,000 junction path\n",
            "Truth:Silverstein of body experiments Henan double Thames WORD There Here SUNBEAM LACK\n",
            "OCR  :Silverstein of body experiments Henan double Thames WORD There Here SUNBEAM LACK\n",
            "Truth:“CONTROL” SHOCKWAVE YAHOO! DESCRIPTION DJ's Schedule respond © { BUYING\n",
            "OCR  :\"CONTROL\" SHOCKWAVE YAHOO! DESCRIPTION DJ's Schedule respond © { BUYING\n",
            "At iteration 0, stage 0, Eval Char error rate=0.633161, Word error rate=1.339161\n"
          ],
          "name": "stdout"
        }
      ]
    },
    {
      "cell_type": "code",
      "metadata": {
        "colab": {
          "base_uri": "https://localhost:8080/"
        },
        "id": "RhCecNB9-26k",
        "outputId": "4c3613d0-e16a-4881-805b-6484b9ad8177"
      },
      "source": [
        "!lstmeval   \\\n",
        "--eval_listfile data/engtuned/list.eval   \\\n",
        "--traineddata data/engtuned/engtuned.traineddata   \\\n",
        "--verbosity=1   \\\n",
        "--model data/engtuned/checkpoints/engtuned_checkpoint\n"
      ],
      "execution_count": null,
      "outputs": [
        {
          "output_type": "stream",
          "text": [
            "data/engtuned/checkpoints/engtuned_checkpoint is not a recognition model, trying training checkpoint...\n",
            "Loaded 20/20 lines (1-20) of document data/engtuned-eval/eng.Oleo_Script_Swash_Caps_Bold.exp0.lstmf\n",
            "Truth:HOW OF WOODS EXPOSED gifts. FLOORS. AFFECT Women with Hazing Petco | VAGINAL\n",
            "OCR  :HOW OF WOODS EXPOSED gifts. FIOORS. AFFECT Women with Hazing Petco | VAGINAL\n",
            "Truth:COURSES CONFUSED Kirby benefit FINDINGS INFLAMMATORY Jokes HARM military C57BL/6\n",
            "OCR  :COURSES CONFUSED Kirby benefit FINDINGS INFLAMMATORY Jokes HARM military CSTBL/G\n",
            "Truth:WORK? CHOW| Quick Technology BOOT. \\i0 Healthy FUTURE. SERGEANT £33,780 _prof2;\n",
            "OCR  :WORK? CHOW| Quick Technology BOOT. \\iO Healthy FUTURE. SERGEANT £33,780 _prof2;\n",
            "At iteration 0, stage 0, Eval Char error rate=0.633161, Word error rate=1.339161\n"
          ],
          "name": "stdout"
        }
      ]
    },
    {
      "cell_type": "code",
      "metadata": {
        "colab": {
          "base_uri": "https://localhost:8080/"
        },
        "id": "rOPAG3HPDFIo",
        "outputId": "f4052ada-617b-4291-9336-25a2af7c2007"
      },
      "source": [
        "!lstmeval   \\\n",
        "--eval_listfile data/engtuned/list.eval   \\\n",
        "--traineddata data/engtuned/engtuned.traineddata   \\\n",
        "--verbosity=0   \\\n",
        "--model data/engtuned/checkpoints/engtuned_checkpoint"
      ],
      "execution_count": null,
      "outputs": [
        {
          "output_type": "stream",
          "text": [
            "data/engtuned/checkpoints/engtuned_checkpoint is not a recognition model, trying training checkpoint...\n",
            "Loaded 20/20 lines (1-20) of document data/engtuned-eval/eng.Oleo_Script_Swash_Caps_Bold.exp0.lstmf\n",
            "At iteration 0, stage 0, Eval Char error rate=0.633161, Word error rate=1.339161\n"
          ],
          "name": "stdout"
        }
      ]
    },
    {
      "cell_type": "code",
      "metadata": {
        "colab": {
          "base_uri": "https://localhost:8080/"
        },
        "id": "YrHDOGNyDKef",
        "outputId": "3d8a9284-4371-4724-928d-ff61efeefb4b"
      },
      "source": [
        "!lstmeval   \\\n",
        "--eval_listfile data/engtuned/list.eval   \\\n",
        "--traineddata data/engtuned/engtuned.traineddata   \\\n",
        "--verbosity=-1   \\\n",
        "--model data/engtuned/checkpoints/engtuned_checkpoint"
      ],
      "execution_count": null,
      "outputs": [
        {
          "output_type": "stream",
          "text": [
            "data/engtuned/checkpoints/engtuned_checkpoint is not a recognition model, trying training checkpoint...\n",
            "Loaded 20/20 lines (1-20) of document data/engtuned-eval/eng.Oleo_Script_Swash_Caps_Bold.exp0.lstmf\n",
            "At iteration 0, stage 0, Eval Char error rate=0.633161, Word error rate=1.339161\n"
          ],
          "name": "stdout"
        }
      ]
    }
  ]
}